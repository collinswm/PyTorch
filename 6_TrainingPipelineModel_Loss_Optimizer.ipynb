{
 "cells": [
  {
   "cell_type": "markdown",
   "metadata": {},
   "source": [
    "### End to End Pipeline in PyTorch - Model, Loss, Optimizer"
   ]
  },
  {
   "cell_type": "code",
   "execution_count": 36,
   "metadata": {},
   "outputs": [],
   "source": [
    "import numpy as np\n",
    "import torch\n",
    "import torch.nn as nn"
   ]
  },
  {
   "cell_type": "markdown",
   "metadata": {},
   "source": [
    "1) Design model - input, output size, forward pass with layers \\\n",
    "2) Construct loss and optimizer \\\n",
    "3) Training loop\n",
    "- forward pass - compute prediction\n",
    "- backward pass - gradient calculations\n",
    "- update weights"
   ]
  },
  {
   "cell_type": "code",
   "execution_count": 64,
   "metadata": {},
   "outputs": [
    {
     "name": "stdout",
     "output_type": "stream",
     "text": [
      "Sample and feature shape: (4, 1)\n",
      "\n",
      "Prediction before training: f(5) = -0.547\n",
      "\n",
      "epoch 1: 0.028), loss = 0.00000000\n",
      "\n",
      "epoch 6: 1.125), loss = 7.94605064\n",
      "\n",
      "epoch 11: 1.612), loss = 1.56437445\n",
      "\n",
      "epoch 16: 1.828), loss = 0.30798548\n",
      "\n",
      "epoch 21: 1.924), loss = 0.06063439\n",
      "\n",
      "epoch 26: 1.966), loss = 0.01193740\n",
      "\n",
      "epoch 31: 1.985), loss = 0.00235016\n",
      "\n",
      "epoch 36: 1.993), loss = 0.00046269\n",
      "\n",
      "epoch 41: 1.997), loss = 0.00009109\n",
      "\n",
      "epoch 46: 1.999), loss = 0.00001793\n",
      "\n",
      "epoch 51: 1.999), loss = 0.00000353\n",
      "\n",
      "epoch 56: 2.000), loss = 0.00000069\n",
      "\n",
      "epoch 61: 2.000), loss = 0.00000014\n",
      "\n",
      "epoch 66: 2.000), loss = 0.00000003\n",
      "\n",
      "epoch 71: 2.000), loss = 0.00000001\n",
      "\n",
      "epoch 76: 2.000), loss = 0.00000000\n",
      "\n",
      "epoch 81: 2.000), loss = 0.00000000\n",
      "\n",
      "epoch 86: 2.000), loss = 0.00000000\n",
      "\n",
      "epoch 91: 2.000), loss = 0.00000000\n",
      "\n",
      "epoch 96: 2.000), loss = 0.00000000\n",
      "\n",
      "Prediction after training: f(5) = 9.312\n",
      "\n"
     ]
    }
   ],
   "source": [
    "# Make sure to use all PyTorch Data Structures and Data Types and not Numpy\n",
    "\n",
    "X = torch.tensor([[1], [2], [3], [4]], dtype = torch.float32)\n",
    "Y = torch.tensor([[2], [4], [6], [8]], dtype = torch.float32)\n",
    "\n",
    "# w = torch.tensor(0.0, dtype=torch.float32, requires_grad = True)\n",
    "\n",
    "X_test = torch.tensor([5], dtype=torch.float32)\n",
    "\n",
    "n_samples, n_features = X.shape\n",
    "X.shape\n",
    "input_size = n_features\n",
    "output_size = n_features\n",
    "\n",
    "print(f'Sample and feature shape: {n_samples, n_features}\\n')\n",
    "\n",
    "#model = nn.Linear(input_size, output_size)\n",
    "\n",
    "## Let's make it a class - replace the model method defined abve\n",
    "\n",
    "class LinearRegression(nn.Module):\n",
    "    \n",
    "    def __init__(self, input_dims, output_dims):\n",
    "        super(LinearRegression, self).__init__()\n",
    "        \n",
    "        #define layers\n",
    "        self.lin = nn.Linear(input_dims, output_dims)\n",
    "        \n",
    "    def forward(self, x):\n",
    "        return self.lin(x)\n",
    "    \n",
    "model = LinearRegression(input_size, output_size)\n",
    "\n",
    "\n",
    "print(f'Prediction before training: f(5) = {model(X_test).item():.3f}\\n')\n",
    "        \n",
    "\n",
    "# model prediction\n",
    "\n",
    "# def forward(x):\n",
    "#     return w * X\n",
    "\n",
    "# Training \n",
    "\n",
    "learning_rate = 0.01\n",
    "n_iters = 100\n",
    "\n",
    "\n",
    "loss = nn.MSELoss() #This is a callable function in Pytorch.nn\n",
    "optimizer = torch.optim.SGD(model.parameters(), lr = learning_rate)\n",
    "\n",
    "for epoch in range(n_iters):\n",
    "    # prediction = forward pass\n",
    "    y_pred = forward(X)\n",
    "    \n",
    "    # loss\n",
    "    l = loss(Y, y_pred) #callable function and no need to update weights\n",
    "    \n",
    "    # gradients = backward pass\n",
    "    l.backward() # dl/dw\n",
    "    \n",
    "    # update weights \n",
    "    optimizer.step()\n",
    "    \n",
    "    #zero gradients\n",
    "    optimizer.zero_grad()\n",
    "    \n",
    "    if epoch % 5 == 0:\n",
    "        [w, b] = model.parameters()\n",
    "        print(f'epoch {epoch+1}: {w[0][0].item():.3f}), loss = {l:.8f}\\n')\n",
    "        \n",
    "\n",
    "print(f'Prediction after training: f(5) = {model(X_test).item():.3f}\\n')\n",
    "    \n",
    "\n"
   ]
  },
  {
   "cell_type": "code",
   "execution_count": null,
   "metadata": {},
   "outputs": [],
   "source": [
    "\n",
    "    "
   ]
  },
  {
   "cell_type": "code",
   "execution_count": 2,
   "metadata": {},
   "outputs": [],
   "source": []
  },
  {
   "cell_type": "code",
   "execution_count": null,
   "metadata": {},
   "outputs": [],
   "source": []
  }
 ],
 "metadata": {
  "kernelspec": {
   "display_name": "Python 3",
   "language": "python",
   "name": "python3"
  },
  "language_info": {
   "codemirror_mode": {
    "name": "ipython",
    "version": 3
   },
   "file_extension": ".py",
   "mimetype": "text/x-python",
   "name": "python",
   "nbconvert_exporter": "python",
   "pygments_lexer": "ipython3",
   "version": "3.7.4"
  }
 },
 "nbformat": 4,
 "nbformat_minor": 4
}

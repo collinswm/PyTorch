{
 "cells": [
  {
   "cell_type": "markdown",
   "metadata": {},
   "source": [
    "### PyTorch Basics - Tensors and Data Structures\n"
   ]
  },
  {
   "cell_type": "code",
   "execution_count": 63,
   "metadata": {},
   "outputs": [],
   "source": [
    "import torch\n",
    "import numpy as np"
   ]
  },
  {
   "cell_type": "code",
   "execution_count": 2,
   "metadata": {},
   "outputs": [
    {
     "name": "stdout",
     "output_type": "stream",
     "text": [
      "tensor([0.])\n"
     ]
    }
   ],
   "source": [
    "x = torch.empty(1)\n",
    "print(x)"
   ]
  },
  {
   "cell_type": "code",
   "execution_count": 3,
   "metadata": {},
   "outputs": [
    {
     "name": "stdout",
     "output_type": "stream",
     "text": [
      "tensor([7.0065e-45, 0.0000e+00, 0.0000e+00])\n"
     ]
    }
   ],
   "source": [
    "x = torch.empty(3) # 1 D with 3 elements\n",
    "print(x)"
   ]
  },
  {
   "cell_type": "code",
   "execution_count": 4,
   "metadata": {},
   "outputs": [
    {
     "name": "stdout",
     "output_type": "stream",
     "text": [
      "tensor([[0., 0., 0.],\n",
      "        [0., 0., 0.]])\n"
     ]
    }
   ],
   "source": [
    "x = torch.empty(2, 3) # 2 * 3 matrix\n",
    "print(x)"
   ]
  },
  {
   "cell_type": "code",
   "execution_count": 5,
   "metadata": {},
   "outputs": [
    {
     "name": "stdout",
     "output_type": "stream",
     "text": [
      "tensor([[[0., 0., 0.],\n",
      "         [0., 0., 0.],\n",
      "         [0., 0., 0.]],\n",
      "\n",
      "        [[0., 0., 0.],\n",
      "         [0., 0., 0.],\n",
      "         [0., 0., 0.]]])\n"
     ]
    }
   ],
   "source": [
    "x = torch.empty(2, 3, 3) # 3 * 3 matrix\n",
    "print(x)"
   ]
  },
  {
   "cell_type": "code",
   "execution_count": 11,
   "metadata": {},
   "outputs": [],
   "source": [
    "x = torch.empty(1, 3, 3, 3) # 4 * 3 matrix\n",
    "#print(x)"
   ]
  },
  {
   "cell_type": "code",
   "execution_count": 12,
   "metadata": {},
   "outputs": [
    {
     "name": "stdout",
     "output_type": "stream",
     "text": [
      "torch.float32\n"
     ]
    }
   ],
   "source": [
    "x = torch.ones(2,2)\n",
    "print(x.dtype) #default float 32"
   ]
  },
  {
   "cell_type": "code",
   "execution_count": 15,
   "metadata": {},
   "outputs": [
    {
     "name": "stdout",
     "output_type": "stream",
     "text": [
      "torch.float16\n"
     ]
    }
   ],
   "source": [
    "x = torch.zeros(2,2, dtype = torch.float16)\n",
    "print(x.dtype)"
   ]
  },
  {
   "cell_type": "code",
   "execution_count": 17,
   "metadata": {},
   "outputs": [
    {
     "name": "stdout",
     "output_type": "stream",
     "text": [
      "<built-in method size of Tensor object at 0x121272e10>\n"
     ]
    }
   ],
   "source": [
    "x = torch.ones(2,2, dtype = torch.float16)\n",
    "print(x.size)"
   ]
  },
  {
   "cell_type": "code",
   "execution_count": 18,
   "metadata": {},
   "outputs": [
    {
     "name": "stdout",
     "output_type": "stream",
     "text": [
      "tensor([2.5000, 0.1000])\n"
     ]
    }
   ],
   "source": [
    "x = torch.tensor([2.5, 0.1])\n",
    "print(x)"
   ]
  },
  {
   "cell_type": "markdown",
   "metadata": {},
   "source": [
    "Some basic operations"
   ]
  },
  {
   "cell_type": "code",
   "execution_count": 21,
   "metadata": {},
   "outputs": [
    {
     "name": "stdout",
     "output_type": "stream",
     "text": [
      "tensor([[0.1536, 0.8916],\n",
      "        [0.2744, 0.4880]]) tensor([[0.2043, 0.2026],\n",
      "        [0.3956, 0.8747]])\n",
      "tensor([[0.3579, 1.0942],\n",
      "        [0.6700, 1.3626]])\n"
     ]
    }
   ],
   "source": [
    "x = torch.rand(2,2)\n",
    "y = torch.rand(2,2)\n",
    "\n",
    "print(x,y)\n"
   ]
  },
  {
   "cell_type": "code",
   "execution_count": 22,
   "metadata": {},
   "outputs": [
    {
     "name": "stdout",
     "output_type": "stream",
     "text": [
      "tensor([[0.3579, 1.0942],\n",
      "        [0.6700, 1.3626]])\n"
     ]
    }
   ],
   "source": [
    "z = x + y\n",
    "z = torch.add(x,y)\n",
    "print(z)"
   ]
  },
  {
   "cell_type": "code",
   "execution_count": 24,
   "metadata": {},
   "outputs": [
    {
     "name": "stdout",
     "output_type": "stream",
     "text": [
      "tensor([[0.3841, 0.8109],\n",
      "        [0.2491, 0.4824]])\n"
     ]
    }
   ],
   "source": [
    "z = x @ y # dot product Matrix Mult\n",
    "print(z)"
   ]
  },
  {
   "cell_type": "code",
   "execution_count": 36,
   "metadata": {},
   "outputs": [
    {
     "name": "stdout",
     "output_type": "stream",
     "text": [
      "tensor([[0.0968, 1.6292],\n",
      "        [0.0675, 0.8703]])\n"
     ]
    },
    {
     "data": {
      "text/plain": [
       "tensor([[0.0968, 1.6292],\n",
       "        [0.0675, 0.8703]])"
      ]
     },
     "execution_count": 36,
     "metadata": {},
     "output_type": "execute_result"
    }
   ],
   "source": [
    "x = torch.rand(2,2)\n",
    "y = torch.rand(2,2)\n",
    "\n",
    "z = x - y\n",
    "z = torch.add(x, y)\n",
    "print(z)\n",
    "y.add_(x)"
   ]
  },
  {
   "cell_type": "code",
   "execution_count": 43,
   "metadata": {},
   "outputs": [
    {
     "data": {
      "text/plain": [
       "tensor([[-0.6516, -0.2231],\n",
       "        [ 0.1749,  0.1207]])"
      ]
     },
     "execution_count": 43,
     "metadata": {},
     "output_type": "execute_result"
    }
   ],
   "source": [
    "x = torch.rand(2,2)\n",
    "y = torch.rand(2,2)\n",
    "\n",
    "z = x - y\n",
    "z = torch.sub(x, y)\n",
    "z = torch.sub(x, y)\n",
    "y.sub_(x)"
   ]
  },
  {
   "cell_type": "code",
   "execution_count": 42,
   "metadata": {},
   "outputs": [
    {
     "data": {
      "text/plain": [
       "tensor([[0.3163, 0.2764],\n",
       "        [0.0253, 0.0998]])"
      ]
     },
     "execution_count": 42,
     "metadata": {},
     "output_type": "execute_result"
    }
   ],
   "source": [
    "x = torch.rand(2,2)\n",
    "y = torch.rand(2,2)\n",
    "\n",
    "z = x * y\n",
    "z = torch.mul(x, y)\n",
    "y.mul_(x)"
   ]
  },
  {
   "cell_type": "code",
   "execution_count": 41,
   "metadata": {},
   "outputs": [
    {
     "data": {
      "text/plain": [
       "tensor([[1.6770, 0.0620],\n",
       "        [1.0061, 1.0394]])"
      ]
     },
     "execution_count": 41,
     "metadata": {},
     "output_type": "execute_result"
    }
   ],
   "source": [
    "x = torch.rand(2,2)\n",
    "y = torch.rand(2,2)\n",
    "\n",
    "z = x / y\n",
    "z = torch.div(x, y)\n",
    "y.div_(x)"
   ]
  },
  {
   "cell_type": "code",
   "execution_count": 45,
   "metadata": {},
   "outputs": [
    {
     "name": "stdout",
     "output_type": "stream",
     "text": [
      "tensor([[0.7292, 0.4343, 0.4195],\n",
      "        [0.9464, 0.3485, 0.0355],\n",
      "        [0.9063, 0.4675, 0.2910],\n",
      "        [0.6645, 0.0571, 0.2148],\n",
      "        [0.9441, 0.3499, 0.7218]])\n",
      "tensor([0.4343, 0.3485, 0.4675, 0.0571, 0.3499])\n"
     ]
    }
   ],
   "source": [
    "# Slicing\n",
    "\n",
    "x = torch.rand(5, 3)\n",
    "print(x)\n",
    "print(x[:,1])"
   ]
  },
  {
   "cell_type": "code",
   "execution_count": 46,
   "metadata": {},
   "outputs": [
    {
     "name": "stdout",
     "output_type": "stream",
     "text": [
      "tensor(0.3485)\n"
     ]
    }
   ],
   "source": [
    "print(x[1,1])"
   ]
  },
  {
   "cell_type": "code",
   "execution_count": 48,
   "metadata": {},
   "outputs": [
    {
     "name": "stdout",
     "output_type": "stream",
     "text": [
      "tensor(0.2910)\n"
     ]
    }
   ],
   "source": [
    "print(x[2,-1])"
   ]
  },
  {
   "cell_type": "code",
   "execution_count": 49,
   "metadata": {},
   "outputs": [
    {
     "name": "stdout",
     "output_type": "stream",
     "text": [
      "tensor(0.2148)\n"
     ]
    }
   ],
   "source": [
    "print(x[-2,-1])"
   ]
  },
  {
   "cell_type": "code",
   "execution_count": 56,
   "metadata": {},
   "outputs": [
    {
     "name": "stdout",
     "output_type": "stream",
     "text": [
      "tensor([[0.4857, 0.2919, 0.9086, 0.4099],\n",
      "        [0.2693, 0.9914, 0.0888, 0.3989],\n",
      "        [0.6788, 0.9780, 0.2262, 0.9591],\n",
      "        [0.4481, 0.5270, 0.3042, 0.1438]])\n",
      "torch.Size([2, 8])\n",
      "torch.Size([16])\n"
     ]
    }
   ],
   "source": [
    "# Resizing tensors\n",
    "\n",
    "x = torch.rand(4, 4)\n",
    "print(x)\n",
    "\n",
    "y = x.view(-1,8)\n",
    "print(y.size())\n",
    "\n",
    "y = x.view(16)\n",
    "print(y.size())\n"
   ]
  },
  {
   "cell_type": "code",
   "execution_count": 61,
   "metadata": {},
   "outputs": [
    {
     "name": "stdout",
     "output_type": "stream",
     "text": [
      "tensor([1., 1., 1., 1., 1.])\n",
      "<class 'numpy.ndarray'>\n",
      "[2. 2. 2. 2. 2.]\n",
      "tensor([2., 2., 2., 2., 2.])\n"
     ]
    }
   ],
   "source": [
    "# Moving between Tensors and Numpy Arrays\n",
    "\n",
    "a = torch.ones(5) # Moving from a tensor to a numpy - \n",
    "print(a)\n",
    "b = a.numpy()\n",
    "print(type(b))\n",
    "\n",
    "a.add_(1) # be careful on a CPU they will both be in the same memory location so mods will impact both PyTorch and Numpy objects\n",
    "print(b)\n",
    "print(a) # both have a 1 added because they are in the same mem loc"
   ]
  },
  {
   "cell_type": "code",
   "execution_count": 77,
   "metadata": {},
   "outputs": [
    {
     "name": "stdout",
     "output_type": "stream",
     "text": [
      "[1. 1. 1. 1. 1.]\n",
      "tensor([1., 1., 1., 1., 1.], dtype=torch.float64)\n",
      "[3. 3. 3. 3. 3.]\n",
      "tensor([3., 3., 3., 3., 3.], dtype=torch.float64)\n"
     ]
    }
   ],
   "source": [
    "a = np.ones(5)\n",
    "print(a)\n",
    "b = torch.from_numpy(a)\n",
    "print(b)\n",
    "\n",
    "#If we modify the np array you will see the change in the tensor\n",
    "\n",
    "a += 2\n",
    "print(a)\n",
    "print(b)\n",
    "\n",
    "if torch.cuda.is_available():\n",
    "    device = torch.device(\"cuda\") # Assign a CUDA device\n",
    "    x = torch.ones(5, device = device) # Point the x array to the GPU\n",
    "    y = torch.ones(5)\n",
    "    \n",
    "    y = y.to(device) #this moves it to the device\n",
    "    \n",
    "    z = x + y # this would be performed on the GPU but you would get numpy errors as they dont work on a gpu\n",
    "    z = z.to(\"cpu\") # Moving then z vector back to the CPU\n"
   ]
  },
  {
   "cell_type": "code",
   "execution_count": 78,
   "metadata": {},
   "outputs": [],
   "source": [
    "# Gradient Calculations\n",
    "\n",
    "x = torch.ones(5, requires_grad = True) #If you ever need the gradient to optimise a function and calculate the loss you will need this enabled. \n",
    "\n"
   ]
  },
  {
   "cell_type": "code",
   "execution_count": null,
   "metadata": {},
   "outputs": [],
   "source": []
  }
 ],
 "metadata": {
  "kernelspec": {
   "display_name": "Python 3",
   "language": "python",
   "name": "python3"
  },
  "language_info": {
   "codemirror_mode": {
    "name": "ipython",
    "version": 3
   },
   "file_extension": ".py",
   "mimetype": "text/x-python",
   "name": "python",
   "nbconvert_exporter": "python",
   "pygments_lexer": "ipython3",
   "version": "3.7.4"
  }
 },
 "nbformat": 4,
 "nbformat_minor": 4
}

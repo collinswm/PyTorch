{
 "cells": [
  {
   "cell_type": "markdown",
   "metadata": {},
   "source": [
    "### Implementing Gradients using PyTorch\n"
   ]
  },
  {
   "cell_type": "markdown",
   "metadata": {},
   "source": [
    "\n",
    "1. Parameter Updates: Manually\n",
    "\n",
    "2. Loss Computation: Manually\n",
    "\n",
    "3. Gradients Computation: Manually\n",
    "\n",
    "4. Prediction: Manually\n",
    "\n"
   ]
  },
  {
   "cell_type": "code",
   "execution_count": 18,
   "metadata": {},
   "outputs": [],
   "source": [
    "import numpy as np\n",
    "import pandas as pd\n",
    "import torch"
   ]
  },
  {
   "cell_type": "code",
   "execution_count": 19,
   "metadata": {},
   "outputs": [
    {
     "name": "stdout",
     "output_type": "stream",
     "text": [
      "Prediction before training: f(5) = 0.000\n",
      "\n",
      "epoch 1: w = 0.300, l = 30.000000\n",
      "\n",
      "epoch 11: w = 1.665, l = 1.162786\n",
      "\n",
      "epoch 21: w = 1.934, l = 0.045069\n",
      "\n",
      "epoch 31: w = 1.987, l = 0.001747\n",
      "\n",
      "epoch 41: w = 1.997, l = 0.000068\n",
      "\n",
      "epoch 51: w = 1.999, l = 0.000003\n",
      "\n",
      "epoch 61: w = 2.000, l = 0.000000\n",
      "\n",
      "\n",
      "Prediction after training: f(5) = 10.000\n",
      "\n"
     ]
    }
   ],
   "source": [
    "# Setup \n",
    "#-------------------------------------------\n",
    "\n",
    "# f - w * x  \n",
    "# y = 2 * x\n",
    "\n",
    "X = torch.tensor([1, 2, 3, 4], dtype=torch.float32) # Replace NP with Torch tensors\n",
    "Y = torch.tensor([2, 4, 6, 8], dtype=torch.float32) # Replace NP with Torch tensors\n",
    "\n",
    "# w = 0.0\n",
    "w = torch.tensor(0.0, dtype=torch.float32, requires_grad=True) # Replace NP with Torch tensors\n",
    "\n",
    "# Define Forward & Loss Function\n",
    "#-------------------------------------------\n",
    "\n",
    "def forward(X): # these stay te same in PyTorch\n",
    "    return w * X \n",
    "\n",
    "# Loss Computation \n",
    "\n",
    "def loss(Y, y_pred): # these stay the same in PyTorch\n",
    "    return((y_pred - Y)**2).mean() \n",
    "\n",
    "\n",
    "# Compute the Gradients\n",
    "#-------------------------------------------\n",
    "\n",
    "# MSE = 1/n * (w * x - y) ** 2 Error / Loss Function\n",
    "# dF/dw = 1/N 2x (w * x - y) Numerical computed derivative of the objective function\n",
    "\n",
    "\n",
    "def gradient(X, Y, y_pred):\n",
    "    return torch.dot(2*X, y_pred - Y).mean()\n",
    "\n",
    "print(f'Prediction before training: f(5) = {forward(5):.3f}\\n')\n",
    "\n",
    "\n",
    "# Training \n",
    "#-------------------------------------------\n",
    "\n",
    "learning_rate = 0.01\n",
    "\n",
    "num_iters = 61\n",
    "\n",
    "for epoch in range(num_iters):\n",
    "    # 1. prediction = forward pass ... remember forward is simply X * weight\n",
    "    y_pred = forward(X) \n",
    "    \n",
    "    # 2. loss = Actual y minus y predicted\n",
    "    l = loss(Y, y_pred) #The difference between Y and Predicted y\n",
    "    \n",
    "    # gradients = backward pass \n",
    "    l.backward() # dl/dw Pytorch will automatically calculate the gradients\n",
    "    \n",
    "    # update weights: We need to wrap this in a with totch to get rig of autogradients\n",
    "    with torch.no_grad():\n",
    "        w -= learning_rate * w.grad\n",
    "        \n",
    "    # zero gradients\n",
    "    w.grad.zero_() # we need to make sure that we get rid of accumulated gradient calculations\n",
    "    \n",
    " # Print the status of the epochs at intervals across 10 iterations\n",
    "\n",
    "    if epoch % 10 == 0: # Here we are printing updated epochs including the weights and the losses\n",
    "        print(f'epoch {epoch + 1}: w = {w:.3f}, l = {l:8f}\\n')\n",
    "\n",
    "print(f'\\nPrediction after training: f(5) = {forward(5):.3f}\\n')"
   ]
  },
  {
   "cell_type": "code",
   "execution_count": null,
   "metadata": {},
   "outputs": [],
   "source": []
  }
 ],
 "metadata": {
  "kernelspec": {
   "display_name": "Python 3",
   "language": "python",
   "name": "python3"
  },
  "language_info": {
   "codemirror_mode": {
    "name": "ipython",
    "version": 3
   },
   "file_extension": ".py",
   "mimetype": "text/x-python",
   "name": "python",
   "nbconvert_exporter": "python",
   "pygments_lexer": "ipython3",
   "version": "3.7.4"
  }
 },
 "nbformat": 4,
 "nbformat_minor": 4
}

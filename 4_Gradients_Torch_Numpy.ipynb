{
 "cells": [
  {
   "cell_type": "markdown",
   "metadata": {},
   "source": [
    "### Implementing Gradients Manually and later in PyTorch"
   ]
  },
  {
   "cell_type": "markdown",
   "metadata": {},
   "source": [
    "\n",
    "1. Parameter Updates: Manually\n",
    "\n",
    "2. Loss Computation: Manually\n",
    "\n",
    "3. Gradients Computation: Manually\n",
    "\n",
    "4. Prediction: Manually\n"
   ]
  },
  {
   "cell_type": "code",
   "execution_count": 222,
   "metadata": {},
   "outputs": [],
   "source": [
    "import numpy as np\n",
    "import pandas as pd\n",
    "import torch"
   ]
  },
  {
   "cell_type": "code",
   "execution_count": 224,
   "metadata": {},
   "outputs": [
    {
     "name": "stdout",
     "output_type": "stream",
     "text": [
      "Prediction before training: f(5) = 0.000\n",
      "\n",
      "epoch 1: w = 1.200, l = 30.000000\n",
      "\n",
      "epoch 2: w = 1.680, l = 4.799999\n",
      "\n",
      "epoch 3: w = 1.872, l = 0.768000\n",
      "\n",
      "epoch 4: w = 1.949, l = 0.122880\n",
      "\n",
      "epoch 5: w = 1.980, l = 0.019661\n",
      "\n",
      "epoch 6: w = 1.992, l = 0.003146\n",
      "\n",
      "epoch 7: w = 1.997, l = 0.000503\n",
      "\n",
      "epoch 8: w = 1.999, l = 0.000081\n",
      "\n",
      "epoch 9: w = 1.999, l = 0.000013\n",
      "\n",
      "epoch 10: w = 2.000, l = 0.000002\n",
      "\n",
      "\n",
      "Prediction after training: f(5) = 9.999\n",
      "\n"
     ]
    }
   ],
   "source": [
    "# Setup \n",
    "#-------------------------------------------\n",
    "\n",
    "# f - w * x  \n",
    "# y = 2 * x\n",
    "\n",
    "X = np.array([1, 2, 3, 4], dtype=np.float32)\n",
    "Y = np.array([2, 4, 6, 8], dtype=np.float32) \n",
    "\n",
    "w = 0.0\n",
    "\n",
    "# Define Forward & Loss Function\n",
    "#-------------------------------------------\n",
    "\n",
    "def forward(X):\n",
    "    return w * X # this simply updates the X value with weight during the forward pass\n",
    "\n",
    "# Loss Computation\n",
    "\n",
    "def loss(Y, y_pred): # the loss function is a Mean Squared error\n",
    "    return((y_pred - Y)**2).mean() \n",
    "\n",
    "\n",
    "# Compute the Gradients\n",
    "#-------------------------------------------\n",
    "\n",
    "# MSE = 1/n * (w * x - y) ** 2 Error / Loss Function\n",
    "# dF/dw = 1/N 2x (w * x - y) Numerical computed derivative of the objective function\n",
    "\n",
    "\n",
    "def gradient(X, Y, y_pred):\n",
    "    return np.dot(2*X, y_pred - Y).mean()\n",
    "\n",
    "print(f'Prediction before training: f(5) = {forward(5):.3f}\\n')\n",
    "\n",
    "\n",
    "# Training \n",
    "#-------------------------------------------\n",
    "\n",
    "learning_rate = 0.01\n",
    "\n",
    "num_iters = 10\n",
    "\n",
    "for epoch in range(num_iters):\n",
    "    # 1. prediction = forward pass ... remember forward is simply X * weight\n",
    "    y_pred = forward(X) \n",
    "    \n",
    "    # 2. loss = Actual y minus y predicted\n",
    "    l = loss(Y, y_pred) #The difference between Y and Predicted y\n",
    "    \n",
    "    # gradients = backward pass - where we derive the gradients\n",
    "    dw = gradient(X, Y, y_pred) # Here we need the derivatives \n",
    "    \n",
    "    # update weights: negative direction of training direction\n",
    "    w -= learning_rate * dw\n",
    "    \n",
    " # Print the status of the epochs at intervals across 10 iterations\n",
    "\n",
    "    if epoch % 1 == 0: # Here we are printing updated epochs including the weights and the losses\n",
    "        print(f'epoch {epoch + 1}: w = {w:.3f}, l = {l:8f}\\n')\n",
    "\n",
    "print(f'\\nPrediction after training: f(5) = {forward(5):.3f}\\n')"
   ]
  },
  {
   "cell_type": "code",
   "execution_count": null,
   "metadata": {},
   "outputs": [],
   "source": []
  },
  {
   "cell_type": "code",
   "execution_count": null,
   "metadata": {},
   "outputs": [],
   "source": []
  }
 ],
 "metadata": {
  "kernelspec": {
   "display_name": "Python 3",
   "language": "python",
   "name": "python3"
  },
  "language_info": {
   "codemirror_mode": {
    "name": "ipython",
    "version": 3
   },
   "file_extension": ".py",
   "mimetype": "text/x-python",
   "name": "python",
   "nbconvert_exporter": "python",
   "pygments_lexer": "ipython3",
   "version": "3.7.4"
  }
 },
 "nbformat": 4,
 "nbformat_minor": 4
}
